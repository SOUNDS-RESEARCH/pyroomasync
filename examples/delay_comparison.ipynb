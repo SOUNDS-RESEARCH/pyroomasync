{
 "cells": [
  {
   "cell_type": "code",
   "execution_count": 1,
   "id": "1048ebe9",
   "metadata": {},
   "outputs": [],
   "source": [
    "from pyroomasync import ConnectedShoeBox, simulate\n",
    "import matplotlib.pyplot as plt\n",
    "import sys\n",
    "import numpy as np\n",
    "sys.path.append(\"../\")\n",
    "\n",
    "from IPython.display import display, Audio\n",
    "\n",
    "\n",
    "def plot_chunk(mic_signals,\n",
    "               labels,\n",
    "               chunk_start=2,\n",
    "               chunk_duration=1e-2,\n",
    "               base_sr=32000):\n",
    "    plt.figure(figsize=(10, 5))\n",
    "    plt.locator_params(axis=\"x\", nbins=12)\n",
    "    \n",
    "    n_mics = mic_signals.shape[0]\n",
    "    start = int(base_sr*chunk_start)\n",
    "    end = start + int(base_sr*chunk_duration)\n",
    "    num_points = end - start\n",
    "    x_axis = 1000*np.arange(num_points)/base_sr\n",
    "    plt.title('Received signals')\n",
    "    for i, mic_signal in enumerate(mic_signals):\n",
    "        #plt.subplot(n_mics, 1, i + 1)\n",
    "        plt.plot(x_axis,\n",
    "                 mic_signal[start:end],\n",
    "                 label=labels[i])\n",
    "        #plt.title('Microphone {} signal'.format(i))\n",
    "        plt.xlabel('Time (ms)')\n",
    "    plt.legend(bbox_to_anchor=(1.05, 1))\n",
    "    plt.tight_layout()\n",
    "\n",
    "    plt.show()\n"
   ]
  },
  {
   "cell_type": "code",
   "execution_count": 5,
   "id": "0a4ed6fd",
   "metadata": {},
   "outputs": [],
   "source": [
    "from copy import copy\n",
    "room_dims = [4, 5, 3]\n",
    "sr_mic_1 = 32000\n",
    "coords_mic_1 = [3, 2, 1]\n",
    "coords_source = [2, 1, 1]\n",
    "delay_mic_1 = 0\n",
    "\n",
    "def simulate_and_plot(sr_mic_2, delay_mic_2, dist_mic_2):\n",
    "    # Create room\n",
    "    room = ConnectedShoeBox([4, 5, 3], fs=32000)\n",
    "    coords_mic_2 = copy(coords_mic_1)\n",
    "    # Change y coord of mic_2\n",
    "    coords_mic_2[1] = coords_mic_2[1] + dist_mic_2\n",
    "    \n",
    "    # Add microphones with their sampling frequencies and latencies\n",
    "    room.add_microphone(coords_mic_1, fs=sr_mic_1, delay=delay_mic_1)\n",
    "    room.add_microphone(coords_mic_2, fs=sr_mic_2, delay=delay_mic_2)\n",
    "\n",
    "    # Add a source\n",
    "    room.add_source(coords_source, \"data/vctk/p225_002.wav\")\n",
    "\n",
    "    # simulate and get the results recorded in the microphones\n",
    "    simulation_results = simulate(room)\n",
    "\n",
    "    labels=[\n",
    "        f\"sr={sr_mic_1}, delay={delay_mic_1}, coords={coords_mic_1}\",\n",
    "        f\"sr={sr_mic_2}, delay={delay_mic_2}, coords={coords_mic_2}, \"\n",
    "    ]\n",
    "    plot_chunk(simulation_results, labels)"
   ]
  },
  {
   "cell_type": "markdown",
   "id": "c41ac95e",
   "metadata": {},
   "source": [
    "## Interative simulation "
   ]
  },
  {
   "cell_type": "code",
   "execution_count": 6,
   "id": "25e4c402",
   "metadata": {},
   "outputs": [
    {
     "data": {
      "text/html": [
       "<style>\n",
       ".output_wrapper, .output {\n",
       "    height:auto !important;\n",
       "    max-height:1000px;  /* your desired max-height here */\n",
       "}\n",
       ".output_scroll {\n",
       "    box-shadow:none !important;\n",
       "    webkit-box-shadow:none !important;\n",
       "}\n",
       "</style>\n"
      ],
      "text/plain": [
       "<IPython.core.display.HTML object>"
      ]
     },
     "metadata": {},
     "output_type": "display_data"
    }
   ],
   "source": [
    "%%html\n",
    "<style>\n",
    ".output_wrapper, .output {\n",
    "    height:auto !important;\n",
    "    max-height:1000px;  /* your desired max-height here */\n",
    "}\n",
    ".output_scroll {\n",
    "    box-shadow:none !important;\n",
    "    webkit-box-shadow:none !important;\n",
    "}\n",
    "</style>"
   ]
  },
  {
   "cell_type": "code",
   "execution_count": 8,
   "id": "143e1649",
   "metadata": {
    "scrolled": true
   },
   "outputs": [
    {
     "data": {
      "application/vnd.jupyter.widget-view+json": {
       "model_id": "d9713311dd0140808d8347705e13d275",
       "version_major": 2,
       "version_minor": 0
      },
      "text/plain": [
       "interactive(children=(IntSlider(value=32000, description='sr', max=32000, min=31800, step=5), IntSlider(value=…"
      ]
     },
     "metadata": {},
     "output_type": "display_data"
    },
    {
     "data": {
      "text/plain": [
       "<function __main__.update(sr=32000, delay_in_ms=0, dist=0)>"
      ]
     },
     "execution_count": 8,
     "metadata": {},
     "output_type": "execute_result"
    }
   ],
   "source": [
    "from ipywidgets import *\n",
    "\n",
    "sr_slider = IntSlider(min=31800, max=32000, step=5, value=32000)\n",
    "distance_slider = FloatSlider(min=0, max=1, step=0.03)\n",
    "delay_slider = IntSlider(min=0, max=20, step=1)\n",
    "\n",
    "def update(sr=sr_mic_1, delay_in_ms=0, dist=0):\n",
    "    simulate_and_plot(sr, delay_in_ms/1000, dist)\n",
    "\n",
    "interact(update,\n",
    "         sr=sr_slider,\n",
    "         delay_in_ms=delay_slider,\n",
    "         dist=distance_slider)"
   ]
  }
 ],
 "metadata": {
  "kernelspec": {
   "display_name": "Python 3",
   "language": "python",
   "name": "python3"
  },
  "language_info": {
   "codemirror_mode": {
    "name": "ipython",
    "version": 3
   },
   "file_extension": ".py",
   "mimetype": "text/x-python",
   "name": "python",
   "nbconvert_exporter": "python",
   "pygments_lexer": "ipython3",
   "version": "3.9.5"
  }
 },
 "nbformat": 4,
 "nbformat_minor": 5
}
