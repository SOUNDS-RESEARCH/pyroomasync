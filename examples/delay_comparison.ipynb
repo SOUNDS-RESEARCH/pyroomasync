{
 "cells": [
  {
   "cell_type": "code",
   "execution_count": 2,
   "id": "1048ebe9",
   "metadata": {},
   "outputs": [],
   "source": [
    "import matplotlib.pyplot as plt\n",
    "import sys\n",
    "sys.path.append(\"../\")\n",
    "\n",
    "from IPython.display import display, Audio\n",
    "\n",
    "\n",
    "def plot_chunk(mic_signals, output_path=None, chunk_start=2, chunk_duration=1e-2, base_sr=32000):\n",
    "    plt.figure()\n",
    "\n",
    "    n_mics = mic_signals.shape[0]\n",
    "    start = int(base_sr*chunk_start)\n",
    "    end = start + int(base_sr*chunk_duration)\n",
    "    for i, mic_signal in enumerate(mic_signals):\n",
    "        plt.subplot(n_mics, 1, i + 1)\n",
    "        plt.plot(range(end - start), mic_signal[start:end])\n",
    "        plt.title('Microphone {} signal'.format(i))\n",
    "        plt.xlabel('Time [s]')\n",
    "    plt.tight_layout()\n",
    "\n",
    "    if output_path is not None:\n",
    "        plt.savefig(output_path)\n",
    "    else:\n",
    "        plt.show()\n"
   ]
  },
  {
   "cell_type": "code",
   "execution_count": 3,
   "id": "6e934f45",
   "metadata": {},
   "outputs": [
    {
     "ename": "TypeError",
     "evalue": "add_microphone() got an unexpected keyword argument 'delay'",
     "output_type": "error",
     "traceback": [
      "\u001b[1;31m---------------------------------------------------------------------------\u001b[0m",
      "\u001b[1;31mTypeError\u001b[0m                                 Traceback (most recent call last)",
      "\u001b[1;32m<ipython-input-3-7e3f09642e8f>\u001b[0m in \u001b[0;36m<module>\u001b[1;34m\u001b[0m\n\u001b[0;32m      5\u001b[0m \u001b[1;33m\u001b[0m\u001b[0m\n\u001b[0;32m      6\u001b[0m \u001b[1;31m# Add microphones with their sampling frequencies and latencies\u001b[0m\u001b[1;33m\u001b[0m\u001b[1;33m\u001b[0m\u001b[1;33m\u001b[0m\u001b[0m\n\u001b[1;32m----> 7\u001b[1;33m \u001b[0mroom\u001b[0m\u001b[1;33m.\u001b[0m\u001b[0madd_microphone\u001b[0m\u001b[1;33m(\u001b[0m\u001b[1;33m[\u001b[0m\u001b[1;36m3\u001b[0m\u001b[1;33m,\u001b[0m \u001b[1;36m2\u001b[0m\u001b[1;33m,\u001b[0m \u001b[1;36m1\u001b[0m\u001b[1;33m]\u001b[0m\u001b[1;33m,\u001b[0m \u001b[0mfs\u001b[0m\u001b[1;33m=\u001b[0m\u001b[1;36m32000\u001b[0m\u001b[1;33m,\u001b[0m \u001b[0mdelay\u001b[0m\u001b[1;33m=\u001b[0m\u001b[1;36m0\u001b[0m\u001b[1;33m)\u001b[0m\u001b[1;33m\u001b[0m\u001b[1;33m\u001b[0m\u001b[0m\n\u001b[0m\u001b[0;32m      8\u001b[0m \u001b[0mroom\u001b[0m\u001b[1;33m.\u001b[0m\u001b[0madd_microphone\u001b[0m\u001b[1;33m(\u001b[0m\u001b[1;33m[\u001b[0m\u001b[1;36m3\u001b[0m\u001b[1;33m,\u001b[0m \u001b[1;36m2.01\u001b[0m\u001b[1;33m,\u001b[0m \u001b[1;36m1\u001b[0m\u001b[1;33m]\u001b[0m\u001b[1;33m,\u001b[0m \u001b[0mfs\u001b[0m\u001b[1;33m=\u001b[0m\u001b[1;36m31999\u001b[0m\u001b[1;33m,\u001b[0m \u001b[0mdelay\u001b[0m\u001b[1;33m=\u001b[0m\u001b[1;36m0\u001b[0m\u001b[1;33m)\u001b[0m\u001b[1;33m\u001b[0m\u001b[1;33m\u001b[0m\u001b[0m\n\u001b[0;32m      9\u001b[0m \u001b[1;33m\u001b[0m\u001b[0m\n",
      "\u001b[1;31mTypeError\u001b[0m: add_microphone() got an unexpected keyword argument 'delay'"
     ]
    }
   ],
   "source": [
    "from pyroomasync import ConnectedShoeBox, simulate\n",
    "\n",
    "# Create room\n",
    "room = ConnectedShoeBox([4, 5, 3])\n",
    "\n",
    "# Add microphones with their sampling frequencies and latencies\n",
    "room.add_microphone([3, 2, 1], fs=32000, delay=0)\n",
    "room.add_microphone([3, 2.01, 1], fs=31999, delay=0)\n",
    "\n",
    "# Add a source\n",
    "room.add_source([2, 1, 1], \"data/vctk/p225_002.wav\")\n",
    "\n",
    "# simulate and get the results recorded in the microphones\n",
    "simulation_results = simulate(room)\n",
    "\n",
    "plot_chunk(simulation_results)"
   ]
  }
 ],
 "metadata": {
  "kernelspec": {
   "display_name": "Python 3",
   "language": "python",
   "name": "python3"
  },
  "language_info": {
   "codemirror_mode": {
    "name": "ipython",
    "version": 3
   },
   "file_extension": ".py",
   "mimetype": "text/x-python",
   "name": "python",
   "nbconvert_exporter": "python",
   "pygments_lexer": "ipython3",
   "version": "3.9.5"
  }
 },
 "nbformat": 4,
 "nbformat_minor": 5
}
