{
 "cells": [
  {
   "cell_type": "code",
   "execution_count": 4,
   "id": "4082b30b",
   "metadata": {},
   "outputs": [
    {
     "data": {
      "image/png": "[encoded data removed]",
      "text/plain": [
       "<Figure size 360x504 with 2 Axes>"
      ]
     },
     "metadata": {
      "needs_background": "light"
     },
     "output_type": "display_data"
    }
   ],
   "source": [
    "import sys\n",
    "import numpy as np\n",
    "\n",
    "sys.path.insert(0, \"..\")\n",
    "\n",
    "from pyroomasync import ConnectedShoeBox, simulate\n",
    "from pyroomasync.utils.visualization import plot_room_2d\n",
    "from algorithms.sro_estimation import naive_sro_estimator\n",
    "\n",
    "ROOM_DIMS = [5,4,3]\n",
    "MIC_COORDINATES = [\n",
    "    [1.5, 2, 1],\n",
    "    [4.5, 1.5, 1]\n",
    "]\n",
    "SOURCE_COORDINATES = [2.5, 2, 1]\n",
    "SR = 16000\n",
    "\n",
    "room = ConnectedShoeBox(ROOM_DIMS, fs=SR)\n",
    "room.add_microphone(MIC_COORDINATES[0])\n",
    "room.add_microphone(MIC_COORDINATES[1])\n",
    "source_signal = np.random.randn(int(SR))\n",
    "room.add_source(SOURCE_COORDINATES, source_signal)\n",
    "plot_room_2d(room, mode=\"row\")"
   ]
  },
  {
   "cell_type": "code",
   "execution_count": 2,
   "id": "ea6d1ba2",
   "metadata": {},
   "outputs": [],
   "source": [
    "def generate_signals(sr_offset=0.5, rt60=None, snr_in_db=100, signal_duration_in_secs=5, sr=16000):\n",
    "    pad_in_secs = 2\n",
    "    signal_duration_in_secs = signal_duration_in_secs + pad_in_secs\n",
    "    \n",
    "    room = ConnectedShoeBox(ROOM_DIMS, rt60=rt60, fs=sr)\n",
    "\n",
    "    # Add microphones with their sampling frequencies and latencies\n",
    "    room.add_microphone(MIC_COORDINATES[0])\n",
    "    room.add_microphone(MIC_COORDINATES[1], fs_offset=sr_offset)\n",
    "\n",
    "    # Add a source\n",
    "    source_signal = np.random.randn(int(signal_duration_in_secs*sr))\n",
    "    room.add_source(SOURCE_COORDINATES, source_signal)#\"data/vctk/p225_002.wav\")\n",
    "\n",
    "    # simulate and get the results recorded in the microphones\n",
    "    simulation_results = simulate(room, snr=snr_in_db)\n",
    "    \n",
    "    # Crop signal beginning\n",
    "    simulation_results[:, int(sr*pad_in_secs):]\n",
    "    return simulation_results, sr\n",
    "\n",
    "def estimate_sro(x0, x1, sr, frame_size_in_secs=0.3, hop_percent=0.5):\n",
    "    return naive_sro_estimator(x0, x1, sr, frame_size_in_secs, hop_percent)\n",
    "    "
   ]
  },
  {
   "cell_type": "code",
   "execution_count": 3,
   "id": "f3430f4e",
   "metadata": {},
   "outputs": [
    {
     "data": {
      "application/vnd.jupyter.widget-view+json": {
       "model_id": "a8fdd63ac52743248ebbe78ac0dbb71d",
       "version_major": 2,
       "version_minor": 0
      },
      "text/plain": [
       "interactive(children=(FloatSlider(value=0.1, description='sr_offset', max=2.0), FloatSlider(value=1.0, descrip…"
      ]
     },
     "metadata": {},
     "output_type": "display_data"
    },
    {
     "data": {
      "text/plain": [
       "<function __main__.interactive_simulate(sr_offset, duration, reverb)>"
      ]
     },
     "execution_count": 3,
     "metadata": {},
     "output_type": "execute_result"
    }
   ],
   "source": [
    "from ipywidgets import FloatSlider, IntSlider, interact_manual\n",
    "\n",
    "sr_offset_slider = FloatSlider(min=0, max=2, step=0.1, value=0.1)\n",
    "duration_slider = FloatSlider(min=1, max=100, step=1, value=1)\n",
    "reverb_slider = FloatSlider(min=0, max=1, step=0.1, value=0.2)\n",
    "\n",
    "def interactive_simulate(sr_offset, duration, reverb):\n",
    "    signals, sr = generate_signals(sr_offset=sr_offset,\n",
    "                                   signal_duration_in_secs=duration,\n",
    "                                   rt60=reverb,\n",
    "                                   )\n",
    "    estimated_sro = estimate_sro(signals[0], signals[1], SR)\n",
    "\n",
    "interact_manual(interactive_simulate,\n",
    "                sr_offset=sr_offset_slider,\n",
    "                duration=duration_slider,\n",
    "                reverb=reverb_slider)"
   ]
  },
  {
   "cell_type": "code",
   "execution_count": null,
   "id": "7f4621a9",
   "metadata": {},
   "outputs": [],
   "source": []
  }
 ],
 "metadata": {
  "kernelspec": {
   "display_name": "Python 3 (ipykernel)",
   "language": "python",
   "name": "python3"
  },
  "language_info": {
   "codemirror_mode": {
    "name": "ipython",
    "version": 3
   },
   "file_extension": ".py",
   "mimetype": "text/x-python",
   "name": "python",
   "nbconvert_exporter": "python",
   "pygments_lexer": "ipython3",
   "version": "3.9.7"
  }
 },
 "nbformat": 4,
 "nbformat_minor": 5
}
