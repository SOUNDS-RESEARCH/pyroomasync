{
 "cells": [
  {
   "cell_type": "code",
   "execution_count": 13,
   "id": "4082b30b",
   "metadata": {},
   "outputs": [],
   "source": [
    "import sys\n",
    "import numpy as np\n",
    "\n",
    "sys.path.append(\"..\")\n",
    "\n",
    "from pyroomasync import ConnectedShoeBox, simulate\n",
    "from algorithms.sro_estimation import naive_sro_estimator\n",
    "\n",
    "ROOM_DIMS = [5,4,3]\n",
    "MIC_COORDINATES = [\n",
    "    [1.5, 2, 1],\n",
    "    [4.5, 1.5, 1]\n",
    "]\n",
    "SOURCE_COORDINATES = [2.5, 2, 1]"
   ]
  },
  {
   "cell_type": "code",
   "execution_count": 21,
   "id": "ea6d1ba2",
   "metadata": {},
   "outputs": [
    {
     "name": "stderr",
     "output_type": "stream",
     "text": [
      "100%|██████████████████████████████████████████████████████████████████████████████████████████████████| 31/31 [00:00<00:00, 6327.48it/s]"
     ]
    },
    {
     "name": "stdout",
     "output_type": "stream",
     "text": [
      "Sampling rate offset (ppm)=30.733799470701676\n",
      "Sampling rate offset (samples/second @16000Hz)=0.4917407915312268\n",
      "(2, 80408) 16000 0.4917407915312268\n"
     ]
    },
    {
     "name": "stderr",
     "output_type": "stream",
     "text": [
      "\n"
     ]
    }
   ],
   "source": [
    "def generate_signals(sr_offset=0.5, rt60=None, snr_in_db=100, signal_duration_in_secs=5, sr=16000):\n",
    "    \n",
    "    room = ConnectedShoeBox(ROOM_DIMS, rt60=rt60, fs=sr)\n",
    "\n",
    "    # Add microphones with their sampling frequencies and latencies\n",
    "    room.add_microphone(MIC_COORDINATES[0])\n",
    "    room.add_microphone(MIC_COORDINATES[1], fs_offset=sr_offset)\n",
    "\n",
    "    # Add a source\n",
    "    source_signal = np.random.randn(signal_duration_in_secs*sr)\n",
    "    room.add_source(SOURCE_COORDINATES, source_signal)#\"data/vctk/p225_002.wav\")\n",
    "\n",
    "    # simulate and get the results recorded in the microphones\n",
    "    simulation_results = simulate(room, snr=snr_in_db)\n",
    "    return simulation_results, sr\n",
    "\n",
    "def estimate_sro(x0, x1, sr, frame_size_in_secs=0.3, hop_percent=0.5):\n",
    "    return naive_sro_estimator(x0, x1, sr, frame_size_in_secs, hop_percent)\n",
    "    \n",
    "\n",
    "signals, sr = generate_signals()\n",
    "estimated_sro = estimate_sro(signals[0], signals[1], sr)\n",
    "print(signals.shape, sr, estimated_sro)"
   ]
  },
  {
   "cell_type": "code",
   "execution_count": null,
   "id": "f3430f4e",
   "metadata": {},
   "outputs": [],
   "source": []
  }
 ],
 "metadata": {
  "kernelspec": {
   "display_name": "Python 3 (ipykernel)",
   "language": "python",
   "name": "python3"
  },
  "language_info": {
   "codemirror_mode": {
    "name": "ipython",
    "version": 3
   },
   "file_extension": ".py",
   "mimetype": "text/x-python",
   "name": "python",
   "nbconvert_exporter": "python",
   "pygments_lexer": "ipython3",
   "version": "3.9.7"
  }
 },
 "nbformat": 4,
 "nbformat_minor": 5
}
